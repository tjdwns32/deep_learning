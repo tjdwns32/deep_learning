{
 "cells": [
  {
   "cell_type": "code",
   "execution_count": 75,
   "metadata": {},
   "outputs": [],
   "source": [
    "import codecs\n",
    "import os, sys, re, inspect\n",
    "\n",
    "\n",
    "# note that the json file format is from \n",
    "# - https://github.com/krikit/annie\n",
    "# - 2016년 한글 및 한국어 정보처리 학술대회 :  \"2016년 엑소브레인 V2.0 & 울산대학교 말뭉치\"라는 명칭의 CD로 배포\n",
    "#\n",
    "def convert(fn,NE_list):\n",
    "    \n",
    "    NE_parser=[]\n",
    "    def syntax_change(line,result):\n",
    "        for part in result:\n",
    "            text,tag = part[1:-1].split(':')\n",
    "            new_part = '<%s>%s</%s>'%(tag,text,tag)\n",
    "            line = line.replace(part,new_part)\n",
    "        return line\n",
    "        \n",
    "    def _filter(lines,tag):\n",
    "        filtered_sents = []\n",
    "        for line in lines:\n",
    "            line = line.strip()\n",
    "            word = re.compile('<[^<>]*:%s>'%tag)\n",
    "            result = word.findall(line)\n",
    "            if result:\n",
    "                line = syntax_change(line,result)\n",
    "                NE_parser.append(result)\n",
    "                filtered_sents.append(line)\n",
    "        return filtered_sents\n",
    "    \n",
    "    with open(fn, 'r', encoding='utf-8') as f: \n",
    "        lines = f.readlines()\n",
    "        for tag in NE_list:\n",
    "            lines = _filter(lines,tag)\n",
    "        out_fn = os.path.join(os.path.dirname(os.path.abspath(inspect.getfile(inspect.currentframe()))), 'exobrain.xml.txt') \n",
    "        with codecs.open(out_fn, 'w', encoding='utf-8') as f:\n",
    "            for line in lines:\n",
    "                print(line, file=f)\n",
    "\n",
    "    \n",
    "\n",
    "if __name__ == '__main__':\n",
    "    fn = 'EXOBRAIN_NE_CORPUS_10000.txt'\n",
    "    NE_list = ['OG','DT','LC']\n",
    "    convert(fn,NE_list)\n"
   ]
  },
  {
   "cell_type": "code",
   "execution_count": null,
   "metadata": {},
   "outputs": [],
   "source": []
  },
  {
   "cell_type": "code",
   "execution_count": null,
   "metadata": {},
   "outputs": [],
   "source": []
  },
  {
   "cell_type": "code",
   "execution_count": null,
   "metadata": {},
   "outputs": [],
   "source": []
  }
 ],
 "metadata": {
  "kernelspec": {
   "display_name": "Python 3",
   "language": "python",
   "name": "python3"
  },
  "language_info": {
   "codemirror_mode": {
    "name": "ipython",
    "version": 3
   },
   "file_extension": ".py",
   "mimetype": "text/x-python",
   "name": "python",
   "nbconvert_exporter": "python",
   "pygments_lexer": "ipython3",
   "version": "3.6.5"
  }
 },
 "nbformat": 4,
 "nbformat_minor": 2
}
