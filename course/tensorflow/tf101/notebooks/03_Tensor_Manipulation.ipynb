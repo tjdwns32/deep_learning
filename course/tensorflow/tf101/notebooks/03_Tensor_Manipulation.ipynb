{
 "cells": [
  {
   "cell_type": "markdown",
   "metadata": {},
   "source": [
    "# Tensor Manipulation"
   ]
  },
  {
   "cell_type": "markdown",
   "metadata": {},
   "source": [
    "** Author : Sangkeun Jung (hugmanskj@gmail.com)**"
   ]
  },
  {
   "cell_type": "markdown",
   "metadata": {
    "collapsed": true
   },
   "source": [
    "More than 70% of tensorflow codes are about 'tensor' manipulation code.\n",
    "We should be familar to tensor object, operations. \n",
    "\n",
    "Most of the tensor api is similar to numpy api. So, it's a good idea to study numpy api first. "
   ]
  },
  {
   "cell_type": "markdown",
   "metadata": {},
   "source": [
    "## *Numpy n-dimensional array*  and     *tf.Tensor*"
   ]
  },
  {
   "cell_type": "code",
   "execution_count": 2,
   "metadata": {},
   "outputs": [
    {
     "name": "stderr",
     "output_type": "stream",
     "text": [
      "C:\\Users\\juni\\Anaconda3\\lib\\site-packages\\h5py\\__init__.py:34: FutureWarning: Conversion of the second argument of issubdtype from `float` to `np.floating` is deprecated. In future, it will be treated as `np.float64 == np.dtype(float).type`.\n",
      "  from ._conv import register_converters as _register_converters\n"
     ]
    }
   ],
   "source": [
    "import tensorflow as tf\n",
    "import numpy as np"
   ]
  },
  {
   "cell_type": "code",
   "execution_count": 3,
   "metadata": {},
   "outputs": [
    {
     "data": {
      "text/plain": [
       "array([ 0,  1,  2,  3,  4,  5,  6,  7,  8,  9, 10, 11, 12, 13, 14, 15, 16,\n",
       "       17, 18, 19, 20, 21, 22, 23, 24, 25, 26, 27, 28, 29, 30, 31, 32, 33,\n",
       "       34, 35, 36, 37, 38, 39, 40, 41, 42, 43, 44, 45, 46, 47, 48, 49, 50,\n",
       "       51, 52, 53, 54, 55, 56, 57, 58, 59, 60, 61, 62, 63, 64, 65, 66, 67,\n",
       "       68, 69, 70, 71, 72, 73, 74, 75, 76, 77, 78, 79, 80, 81, 82, 83, 84,\n",
       "       85, 86, 87, 88, 89, 90, 91, 92, 93, 94, 95, 96, 97, 98, 99])"
      ]
     },
     "execution_count": 3,
     "metadata": {},
     "output_type": "execute_result"
    }
   ],
   "source": [
    "n_a = np.arange(100)\n",
    "n_a"
   ]
  },
  {
   "cell_type": "code",
   "execution_count": 5,
   "metadata": {},
   "outputs": [
    {
     "name": "stdout",
     "output_type": "stream",
     "text": [
      "<class 'numpy.ndarray'>\n"
     ]
    },
    {
     "data": {
      "text/plain": [
       "(100,)"
      ]
     },
     "execution_count": 5,
     "metadata": {},
     "output_type": "execute_result"
    }
   ],
   "source": [
    "print(type(n_a))\n",
    "n_a.shape"
   ]
  },
  {
   "cell_type": "code",
   "execution_count": 11,
   "metadata": {},
   "outputs": [
    {
     "name": "stdout",
     "output_type": "stream",
     "text": [
      "t_a :  <tf.Variable 'Variable_3:0' shape=(100,) dtype=int32_ref>\n"
     ]
    }
   ],
   "source": [
    "t_a = tf.Variable(n_a)\n",
    "print(\"t_a : \", t_a)\n",
    "sess = tf.Session()\n",
    "\n",
    "# init all variables\n",
    "sess.run(tf.global_variables_initializer())"
   ]
  },
  {
   "cell_type": "markdown",
   "metadata": {},
   "source": [
    "* numpy obj can be compatible to tf.tensor\n",
    "* the result of sess.run() is always numpy obj or a list of numpy objs "
   ]
  },
  {
   "cell_type": "code",
   "execution_count": 13,
   "metadata": {},
   "outputs": [
    {
     "name": "stdout",
     "output_type": "stream",
     "text": [
      "value of t_a : \n",
      "[ 0  1  2  3  4  5  6  7  8  9 10 11 12 13 14 15 16 17 18 19 20 21 22 23\n",
      " 24 25 26 27 28 29 30 31 32 33 34 35 36 37 38 39 40 41 42 43 44 45 46 47\n",
      " 48 49 50 51 52 53 54 55 56 57 58 59 60 61 62 63 64 65 66 67 68 69 70 71\n",
      " 72 73 74 75 76 77 78 79 80 81 82 83 84 85 86 87 88 89 90 91 92 93 94 95\n",
      " 96 97 98 99]\n",
      "\n",
      "type of sess.run(t_a) :  <class 'numpy.ndarray'>\n",
      "shape of sess.run(t_a) :  (100,)\n"
     ]
    }
   ],
   "source": [
    "print(\"value of t_a : \")\n",
    "print(sess.run(t_a))\n",
    "print()\n",
    "print(\"type of sess.run(t_a) : \", type(sess.run(t_a)))\n",
    "print(\"shape of sess.run(t_a) : \", sess.run(t_a).shape)\n"
   ]
  },
  {
   "cell_type": "markdown",
   "metadata": {},
   "source": [
    "## Reshape"
   ]
  },
  {
   "cell_type": "code",
   "execution_count": 27,
   "metadata": {},
   "outputs": [
    {
     "name": "stdout",
     "output_type": "stream",
     "text": [
      "(4, 5)\n"
     ]
    },
    {
     "data": {
      "text/plain": [
       "array([[ 0,  1,  2,  3,  4],\n",
       "       [ 5,  6,  7,  8,  9],\n",
       "       [10, 11, 12, 13, 14],\n",
       "       [15, 16, 17, 18, 19]])"
      ]
     },
     "execution_count": 27,
     "metadata": {},
     "output_type": "execute_result"
    }
   ],
   "source": [
    "n_b = np.arange(20).reshape(4,5)\n",
    "print(n_b.shape)\n",
    "n_b"
   ]
  },
  {
   "cell_type": "code",
   "execution_count": 16,
   "metadata": {},
   "outputs": [
    {
     "name": "stdout",
     "output_type": "stream",
     "text": [
      "(2, 10)\n",
      "[[ 0  1  2  3  4  5  6  7  8  9]\n",
      " [10 11 12 13 14 15 16 17 18 19]]\n"
     ]
    }
   ],
   "source": [
    "n_c = n_b.reshape(2,10)\n",
    "print(n_c.shape)\n",
    "print(n_c)"
   ]
  },
  {
   "cell_type": "markdown",
   "metadata": {},
   "source": [
    "- tf.reshape(tensor, [dim, dim, ...] ) : reshape a tensor with dimension information"
   ]
  },
  {
   "cell_type": "code",
   "execution_count": 17,
   "metadata": {},
   "outputs": [
    {
     "name": "stdout",
     "output_type": "stream",
     "text": [
      "Tensor(\"Reshape:0\", shape=(5, 4), dtype=int32)\n",
      "[[ 0  1  2  3]\n",
      " [ 4  5  6  7]\n",
      " [ 8  9 10 11]\n",
      " [12 13 14 15]\n",
      " [16 17 18 19]]\n"
     ]
    }
   ],
   "source": [
    "# [4,5] --> [5,4]\n",
    "t_r = tf.reshape(n_b, [5,4])\n",
    "print(t_r)\n",
    "print(sess.run(t_r))"
   ]
  },
  {
   "cell_type": "code",
   "execution_count": 18,
   "metadata": {},
   "outputs": [
    {
     "name": "stdout",
     "output_type": "stream",
     "text": [
      "Tensor(\"Reshape_1:0\", shape=(1, 20), dtype=int32)\n",
      "[[ 0  1  2  3  4  5  6  7  8  9 10 11 12 13 14 15 16 17 18 19]]\n"
     ]
    }
   ],
   "source": [
    "# [4,5] --> [1,20]\n",
    "t_r2 = tf.reshape(n_b, [1,20])\n",
    "print(t_r2)\n",
    "print(sess.run(t_r2))"
   ]
  },
  {
   "cell_type": "markdown",
   "metadata": {},
   "source": [
    "- We can use **-1** for dimension inference (very useful!!!) "
   ]
  },
  {
   "cell_type": "code",
   "execution_count": 21,
   "metadata": {},
   "outputs": [
    {
     "name": "stdout",
     "output_type": "stream",
     "text": [
      "Tensor(\"Reshape_3:0\", shape=(10, 2), dtype=int32)\n",
      "[[ 0  1]\n",
      " [ 2  3]\n",
      " [ 4  5]\n",
      " [ 6  7]\n",
      " [ 8  9]\n",
      " [10 11]\n",
      " [12 13]\n",
      " [14 15]\n",
      " [16 17]\n",
      " [18 19]]\n"
     ]
    }
   ],
   "source": [
    "t_r3 = tf.reshape(n_b, [10, -1])  # second dim. will be inferenced! row-10에 맞춰서 col을 예상한다.\n",
    "print(t_r3)  \n",
    "print(sess.run(t_r3))"
   ]
  },
  {
   "cell_type": "code",
   "execution_count": 22,
   "metadata": {},
   "outputs": [
    {
     "name": "stdout",
     "output_type": "stream",
     "text": [
      "Tensor(\"Reshape_4:0\", shape=(20,), dtype=int32)\n",
      "[ 0  1  2  3  4  5  6  7  8  9 10 11 12 13 14 15 16 17 18 19]\n"
     ]
    }
   ],
   "source": [
    "t_r4 = tf.reshape(n_b, [-1])\n",
    "print(t_r4)\n",
    "print(sess.run(t_r4))"
   ]
  },
  {
   "cell_type": "markdown",
   "metadata": {},
   "source": [
    "## Split & Concat"
   ]
  },
  {
   "cell_type": "markdown",
   "metadata": {},
   "source": [
    "- tf.split(split_dim, num_split, value, name='split')\n",
    "> Splits a tensor into num_split tensors along one dimension.\n",
    "\n",
    "- tf.concat(concat_dim, values, name='concat')\n",
    "> Concatenates tensors along one dimension."
   ]
  },
  {
   "cell_type": "code",
   "execution_count": 39,
   "metadata": {
    "scrolled": false
   },
   "outputs": [
    {
     "name": "stdout",
     "output_type": "stream",
     "text": [
      "type of result t_h :  <class 'list'>\n",
      "len. of result t_h :  5\n",
      "Shape of splitted element :  (4, 1)\n",
      "[[ 0]\n",
      " [ 5]\n",
      " [10]\n",
      " [15]]\n",
      "-------\n",
      "[[ 1]\n",
      " [ 6]\n",
      " [11]\n",
      " [16]]\n",
      "-------\n",
      "[[ 2]\n",
      " [ 7]\n",
      " [12]\n",
      " [17]]\n",
      "-------\n",
      "[[ 3]\n",
      " [ 8]\n",
      " [13]\n",
      " [18]]\n",
      "-------\n",
      "[[ 4]\n",
      " [ 9]\n",
      " [14]\n",
      " [19]]\n",
      "-------\n",
      "####################\n",
      "Tensor(\"concat_2:0\", shape=(4, 5), dtype=int32)\n",
      "[[ 0  1  2  3  4]\n",
      " [ 5  6  7  8  9]\n",
      " [10 11 12 13 14]\n",
      " [15 16 17 18 19]]\n"
     ]
    }
   ],
   "source": [
    "t_h = tf.split(n_b,5,1)\n",
    "result = sess.run(t_h)\n",
    "print(\"type of result t_h : \", type(result))\n",
    "print(\"len. of result t_h : \", len(result))\n",
    "print(\"Shape of splitted element : \", result[0].shape)\n",
    "for i in result: print(i); print(\"-------\")\n",
    "    \n",
    "print(\"#\"*20)\n",
    "\n",
    "t_h_c = tf.concat(result,1)\n",
    "print(t_h_c)\n",
    "print(sess.run(t_h_c))"
   ]
  },
  {
   "cell_type": "code",
   "execution_count": 44,
   "metadata": {},
   "outputs": [
    {
     "name": "stdout",
     "output_type": "stream",
     "text": [
      "type of result t_v :  <class 'list'>\n",
      "len. of result t_v :  4\n",
      "Shape of splitted element :  (1, 5)\n",
      "[[0 1 2 3 4]]\n",
      "--------------------\n",
      "[[5 6 7 8 9]]\n",
      "--------------------\n",
      "[[10 11 12 13 14]]\n",
      "--------------------\n",
      "[[15 16 17 18 19]]\n",
      "--------------------\n",
      "####################\n",
      "Tensor(\"concat_7:0\", shape=(4, 5), dtype=int32)\n",
      "[[ 0  1  2  3  4]\n",
      " [ 5  6  7  8  9]\n",
      " [10 11 12 13 14]\n",
      " [15 16 17 18 19]]\n"
     ]
    }
   ],
   "source": [
    "# vertical split\n",
    "t_v = tf.split(n_b,4,0)\n",
    "result = sess.run(t_v)\n",
    "print(\"type of result t_v : \", type(result))\n",
    "print( \"len. of result t_v : \", len(result))\n",
    "print(\"Shape of splitted element : \", result[0].shape)\n",
    "for i in result: print(i); print(\"-\"*20)\n",
    "    \n",
    "print(\"#\"*20)\n",
    "\n",
    "t_v_c = tf.concat(result,0)\n",
    "print(t_v_c)\n",
    "print(sess.run(t_v_c))"
   ]
  },
  {
   "cell_type": "markdown",
   "metadata": {},
   "source": [
    "## Expand  & Squeeze"
   ]
  },
  {
   "cell_type": "markdown",
   "metadata": {},
   "source": [
    "- tf.expand_dims(input, dim, name=None)\n",
    "> Inserts a dimension of 1 into a tensor's shape.\n",
    "\n",
    "- tf.squeeze(input, squeeze_dims=None, name=None)\n",
    "> Removes dimensions of size 1 from the shape of a tensor."
   ]
  },
  {
   "cell_type": "code",
   "execution_count": 49,
   "metadata": {},
   "outputs": [
    {
     "name": "stdout",
     "output_type": "stream",
     "text": [
      "Shape :  (3, 3)\n",
      "[[0 1 2]\n",
      " [3 4 5]\n",
      " [6 7 8]]\n"
     ]
    }
   ],
   "source": [
    "n_d = np.arange(9).reshape(3,3)\n",
    "print(\"Shape : \", n_d.shape)\n",
    "print(n_d)"
   ]
  },
  {
   "cell_type": "code",
   "execution_count": 50,
   "metadata": {},
   "outputs": [
    {
     "name": "stdout",
     "output_type": "stream",
     "text": [
      "Tensor(\"ExpandDims_2:0\", shape=(1, 3, 3), dtype=int32)\n",
      "[[[0 1 2]\n",
      "  [3 4 5]\n",
      "  [6 7 8]]]\n",
      "####################\n",
      "Tensor(\"Squeeze_2:0\", shape=(3, 3), dtype=int32)\n",
      "[[0 1 2]\n",
      " [3 4 5]\n",
      " [6 7 8]]\n"
     ]
    }
   ],
   "source": [
    "# insert new dim. at 0\n",
    "t_d_0 = tf.expand_dims(n_d, 0)\n",
    "print(t_d_0)\n",
    "print(sess.run(t_d_0))\n",
    "\n",
    "print(\"#\"*20)\n",
    "\n",
    "t_s_0 = tf.squeeze(t_d_0)\n",
    "print(t_s_0)\n",
    "print(sess.run(t_s_0))\n"
   ]
  },
  {
   "cell_type": "code",
   "execution_count": 54,
   "metadata": {},
   "outputs": [
    {
     "name": "stdout",
     "output_type": "stream",
     "text": [
      "Tensor(\"ExpandDims_4:0\", shape=(3, 1, 3), dtype=int32)\n",
      "[[[0 1 2]]\n",
      "\n",
      " [[3 4 5]]\n",
      "\n",
      " [[6 7 8]]]\n",
      "====================\n",
      "Tensor(\"Squeeze_6:0\", shape=(3, 3), dtype=int32)\n",
      "[[0 1 2]\n",
      " [3 4 5]\n",
      " [6 7 8]]\n"
     ]
    }
   ],
   "source": [
    "# insert new dim. at 1\n",
    "t_d_1 = tf.expand_dims(n_d, 1)\n",
    "print(t_d_1)\n",
    "print(sess.run(t_d_1))\n",
    "\n",
    "print(\"=\"*20)\n",
    "\n",
    "t_s_1 = tf.squeeze(t_d_1)\n",
    "print(t_s_1)\n",
    "print(sess.run(t_s_1))\n"
   ]
  },
  {
   "cell_type": "code",
   "execution_count": 18,
   "metadata": {},
   "outputs": [
    {
     "name": "stdout",
     "output_type": "stream",
     "text": [
      "Tensor(\"ExpandDims_2:0\", shape=(3, 3, 1), dtype=int64)\n",
      "[[[0]\n",
      "  [1]\n",
      "  [2]]\n",
      "\n",
      " [[3]\n",
      "  [4]\n",
      "  [5]]\n",
      "\n",
      " [[6]\n",
      "  [7]\n",
      "  [8]]]\n",
      "Tensor(\"ExpandDims_3:0\", shape=(3, 3, 1, 1), dtype=int64)\n",
      "[[[[0]]\n",
      "\n",
      "  [[1]]\n",
      "\n",
      "  [[2]]]\n",
      "\n",
      "\n",
      " [[[3]]\n",
      "\n",
      "  [[4]]\n",
      "\n",
      "  [[5]]]\n",
      "\n",
      "\n",
      " [[[6]]\n",
      "\n",
      "  [[7]]\n",
      "\n",
      "  [[8]]]]\n",
      "====================\n",
      "Tensor(\"Squeeze_2:0\", shape=(3, 3), dtype=int64)\n",
      "[[0 1 2]\n",
      " [3 4 5]\n",
      " [6 7 8]]\n"
     ]
    }
   ],
   "source": [
    "# expand two times\n",
    "t_d_2 = tf.expand_dims(n_d, 2)\n",
    "print t_d_2\n",
    "print sess.run(t_d_2)\n",
    "t_d_3 = tf.expand_dims(t_d_2, 3)\n",
    "print t_d_3\n",
    "print sess.run(t_d_3)\n",
    "\n",
    "print \"=\"*20\n",
    "\n",
    "# --> squeeze all dimensions which have 1 dim.\n",
    "t_s_3 = tf.squeeze(t_d_3)\n",
    "print t_s_3\n",
    "print sess.run(t_s_3)"
   ]
  },
  {
   "cell_type": "markdown",
   "metadata": {},
   "source": [
    "## Pack & Unpack"
   ]
  },
  {
   "cell_type": "markdown",
   "metadata": {},
   "source": [
    "- tf.pack(values, axis=0, name='pack')\n",
    "> Packs **a list of rank-R tensors** into one rank-(R+1) tensor.\n",
    "\n",
    "- tf.unpack(value, num=None, axis=0, name='unpack')\n",
    "> Unpacks the given dimension of a rank-R tensor into rank-(R-1) **tensors**."
   ]
  },
  {
   "cell_type": "code",
   "execution_count": 19,
   "metadata": {},
   "outputs": [],
   "source": [
    "x = [1,2,3]\n",
    "y = [4,5,6]\n",
    "z = [7,8,9]\n",
    "\n",
    "list_n = [x,y,z]\n",
    "\n"
   ]
  },
  {
   "cell_type": "code",
   "execution_count": 20,
   "metadata": {},
   "outputs": [
    {
     "name": "stdout",
     "output_type": "stream",
     "text": [
      "Tensor(\"pack:0\", shape=(3, 3), dtype=int32)\n",
      "[[1 2 3]\n",
      " [4 5 6]\n",
      " [7 8 9]]\n",
      "====================\n",
      "[<tf.Tensor 'unpack:0' shape=(3,) dtype=int32>, <tf.Tensor 'unpack:1' shape=(3,) dtype=int32>, <tf.Tensor 'unpack:2' shape=(3,) dtype=int32>]\n",
      "\n",
      "Tensor(\"unpack:0\", shape=(3,), dtype=int32)\n",
      "Tensor(\"unpack:1\", shape=(3,), dtype=int32)\n",
      "Tensor(\"unpack:2\", shape=(3,), dtype=int32)\n",
      "\n",
      "[1 2 3]\n",
      "[4 5 6]\n",
      "[7 8 9]\n"
     ]
    }
   ],
   "source": [
    "# pack at axis=0\n",
    "t_p = tf.pack(list_n)\n",
    "print t_p\n",
    "print sess.run(t_p)\n",
    "\n",
    "print \"=\"*20\n",
    "\n",
    "t_u = tf.unpack(t_p)\n",
    "print t_u\n",
    "print\n",
    "for i in t_u: print i\n",
    "print\n",
    "for i in t_u: print sess.run(i)"
   ]
  },
  {
   "cell_type": "markdown",
   "metadata": {},
   "source": [
    "- Aware that we can do samething with tf.split & tf.reshape.\n",
    "- But we should know the split_numbers (in this case 3 ), and target shape"
   ]
  },
  {
   "cell_type": "code",
   "execution_count": 21,
   "metadata": {},
   "outputs": [
    {
     "name": "stdout",
     "output_type": "stream",
     "text": [
      "[<tf.Tensor 'split_2:0' shape=(1, 3) dtype=int32>, <tf.Tensor 'split_2:1' shape=(1, 3) dtype=int32>, <tf.Tensor 'split_2:2' shape=(1, 3) dtype=int32>]\n",
      "Tensor(\"split_2:0\", shape=(1, 3), dtype=int32)\n",
      "Tensor(\"split_2:1\", shape=(1, 3), dtype=int32)\n",
      "Tensor(\"split_2:2\", shape=(1, 3), dtype=int32)\n",
      "\n",
      "[[1 2 3]]\n",
      "[[4 5 6]]\n",
      "[[7 8 9]]\n"
     ]
    }
   ],
   "source": [
    "t_sp = tf.split(0, 3, t_p)\n",
    "print t_sp\n",
    "for i in t_sp: print i\n",
    "print\n",
    "for i in t_sp: print sess.run(i)"
   ]
  },
  {
   "cell_type": "markdown",
   "metadata": {},
   "source": [
    "## Transpose"
   ]
  },
  {
   "cell_type": "markdown",
   "metadata": {},
   "source": [
    "- tf.transpose(a, perm=None, name='transpose')\n",
    "> Transposes a. Permutes the dimensions according to perm."
   ]
  },
  {
   "cell_type": "code",
   "execution_count": 22,
   "metadata": {},
   "outputs": [
    {
     "name": "stdout",
     "output_type": "stream",
     "text": [
      "(2, 4)\n",
      "[[0 1 2 3]\n",
      " [4 5 6 7]]\n"
     ]
    }
   ],
   "source": [
    "n_t = np.arange(8).reshape(2,4)\n",
    "print n_t.shape\n",
    "print n_t"
   ]
  },
  {
   "cell_type": "code",
   "execution_count": 23,
   "metadata": {},
   "outputs": [
    {
     "name": "stdout",
     "output_type": "stream",
     "text": [
      "Tensor(\"transpose:0\", shape=(4, 2), dtype=int64)\n",
      "[[0 4]\n",
      " [1 5]\n",
      " [2 6]\n",
      " [3 7]]\n",
      "====================\n",
      "Tensor(\"transpose_1:0\", shape=(2, 4), dtype=int64)\n",
      "[[0 1 2 3]\n",
      " [4 5 6 7]]\n"
     ]
    }
   ],
   "source": [
    "t_tr = tf.transpose(n_t)\n",
    "print t_tr\n",
    "print sess.run(t_tr)\n",
    "\n",
    "print \"=\"*20\n",
    "# reverse transpose \n",
    "t_tr_r = tf.transpose(t_tr)\n",
    "print t_tr_r\n",
    "print sess.run(t_tr_r)"
   ]
  },
  {
   "cell_type": "markdown",
   "metadata": {},
   "source": [
    "## Create tensor with initial values"
   ]
  },
  {
   "cell_type": "markdown",
   "metadata": {},
   "source": [
    "- tf.ones(shape, dtype=tf.float32, name=None)\n",
    "> Creates a tensor with all elements set to 1.\n",
    "- tf.zeros(shape, dtype=tf.float32, name=None)\n",
    "> Creates a tensor with all elements set to zero.\n",
    "- tf.fill(dims, value, name=None)\n",
    "> Creates a tensor filled with a scalar value."
   ]
  },
  {
   "cell_type": "code",
   "execution_count": 24,
   "metadata": {},
   "outputs": [
    {
     "name": "stdout",
     "output_type": "stream",
     "text": [
      "Tensor(\"ones:0\", shape=(2, 7), dtype=float32)\n",
      "[[ 1.  1.  1.  1.  1.  1.  1.]\n",
      " [ 1.  1.  1.  1.  1.  1.  1.]]\n"
     ]
    }
   ],
   "source": [
    "t_1 = tf.ones([2,7])\n",
    "print t_1\n",
    "print sess.run(t_1)"
   ]
  },
  {
   "cell_type": "code",
   "execution_count": 25,
   "metadata": {},
   "outputs": [
    {
     "name": "stdout",
     "output_type": "stream",
     "text": [
      "Tensor(\"zeros:0\", shape=(2, 7), dtype=float32)\n",
      "[[ 0.  0.  0.  0.  0.  0.  0.]\n",
      " [ 0.  0.  0.  0.  0.  0.  0.]]\n"
     ]
    }
   ],
   "source": [
    "t_0 = tf.zeros([2,7])\n",
    "print t_0\n",
    "print sess.run(t_0)"
   ]
  },
  {
   "cell_type": "code",
   "execution_count": 26,
   "metadata": {},
   "outputs": [
    {
     "name": "stdout",
     "output_type": "stream",
     "text": [
      "Tensor(\"Fill:0\", shape=(2, 7), dtype=int32)\n",
      "[[77 77 77 77 77 77 77]\n",
      " [77 77 77 77 77 77 77]]\n"
     ]
    }
   ],
   "source": [
    "t_f = tf.fill([2,7], 77)\n",
    "print t_f\n",
    "print sess.run(t_f)"
   ]
  },
  {
   "cell_type": "markdown",
   "metadata": {},
   "source": [
    "## Copy shape of other tensor"
   ]
  },
  {
   "cell_type": "markdown",
   "metadata": {},
   "source": [
    "- tf.ones_like(tensor, dtype=None, name=None, optimize=True)\n",
    "> Creates a tensor with all elements set to 1.\n",
    "- tf.zeros_like(tensor, dtype=None, name=None, optimize=True)\n",
    "> Creates a tensor with all elements set to zero."
   ]
  },
  {
   "cell_type": "code",
   "execution_count": 27,
   "metadata": {},
   "outputs": [
    {
     "name": "stdout",
     "output_type": "stream",
     "text": [
      "(4, 5)\n",
      "[[ 0  1  2  3  4]\n",
      " [ 5  6  7  8  9]\n",
      " [10 11 12 13 14]\n",
      " [15 16 17 18 19]]\n"
     ]
    }
   ],
   "source": [
    "n_sh = np.arange(20).reshape(4,5)\n",
    "print n_sh.shape\n",
    "print n_sh"
   ]
  },
  {
   "cell_type": "code",
   "execution_count": 28,
   "metadata": {},
   "outputs": [
    {
     "name": "stdout",
     "output_type": "stream",
     "text": [
      "Tensor(\"ones_like:0\", shape=(4, 5), dtype=int64)\n",
      "[[1 1 1 1 1]\n",
      " [1 1 1 1 1]\n",
      " [1 1 1 1 1]\n",
      " [1 1 1 1 1]]\n"
     ]
    }
   ],
   "source": [
    "t_o = tf.ones_like(n_sh)\n",
    "print t_o\n",
    "print sess.run(t_o)"
   ]
  },
  {
   "cell_type": "code",
   "execution_count": 29,
   "metadata": {},
   "outputs": [
    {
     "name": "stdout",
     "output_type": "stream",
     "text": [
      "Tensor(\"zeros_like:0\", shape=(4, 5), dtype=int64)\n",
      "[[0 0 0 0 0]\n",
      " [0 0 0 0 0]\n",
      " [0 0 0 0 0]\n",
      " [0 0 0 0 0]]\n"
     ]
    }
   ],
   "source": [
    "t_z = tf.zeros_like(n_sh)\n",
    "print t_z\n",
    "print sess.run(t_z)"
   ]
  },
  {
   "cell_type": "markdown",
   "metadata": {},
   "source": [
    "## Tiling tensor "
   ]
  },
  {
   "cell_type": "markdown",
   "metadata": {},
   "source": [
    "- tf.tile(input, multiples, name=None)\n",
    "> Constructs a tensor by tiling a given tensor."
   ]
  },
  {
   "cell_type": "code",
   "execution_count": 30,
   "metadata": {},
   "outputs": [
    {
     "name": "stdout",
     "output_type": "stream",
     "text": [
      "(3,)\n",
      "[0 1 2]\n"
     ]
    }
   ],
   "source": [
    "n_r = np.arange(3)\n",
    "print n_r.shape\n",
    "print n_r"
   ]
  },
  {
   "cell_type": "code",
   "execution_count": 31,
   "metadata": {},
   "outputs": [
    {
     "name": "stdout",
     "output_type": "stream",
     "text": [
      "Tensor(\"Tile:0\", shape=(9,), dtype=int64)\n",
      "[0 1 2 0 1 2 0 1 2]\n"
     ]
    }
   ],
   "source": [
    "# tile to horizontal\n",
    "t_ti = tf.tile(n_r, [3])\n",
    "print t_ti\n",
    "print sess.run(t_ti)"
   ]
  },
  {
   "cell_type": "code",
   "execution_count": 32,
   "metadata": {},
   "outputs": [
    {
     "name": "stdout",
     "output_type": "stream",
     "text": [
      "(2, 3)\n",
      "[[0 1 2]\n",
      " [3 4 5]]\n"
     ]
    }
   ],
   "source": [
    "n_r2 = np.arange(6).reshape(2,3)\n",
    "print n_r2.shape\n",
    "print n_r2"
   ]
  },
  {
   "cell_type": "code",
   "execution_count": 33,
   "metadata": {},
   "outputs": [
    {
     "name": "stdout",
     "output_type": "stream",
     "text": [
      "Tensor(\"Tile_1:0\", shape=(4, 9), dtype=int64)\n",
      "[[0 1 2 0 1 2 0 1 2]\n",
      " [3 4 5 3 4 5 3 4 5]\n",
      " [0 1 2 0 1 2 0 1 2]\n",
      " [3 4 5 3 4 5 3 4 5]]\n"
     ]
    }
   ],
   "source": [
    "# tile to horizontal & vertical\n",
    "t_ti2 = tf.tile(n_r2, [2,3])\n",
    "print t_ti2\n",
    "print sess.run(t_ti2)"
   ]
  },
  {
   "cell_type": "code",
   "execution_count": null,
   "metadata": {
    "collapsed": true
   },
   "outputs": [],
   "source": []
  }
 ],
 "metadata": {
  "kernelspec": {
   "display_name": "Python 3",
   "language": "python",
   "name": "python3"
  },
  "language_info": {
   "codemirror_mode": {
    "name": "ipython",
    "version": 3
   },
   "file_extension": ".py",
   "mimetype": "text/x-python",
   "name": "python",
   "nbconvert_exporter": "python",
   "pygments_lexer": "ipython3",
   "version": "3.6.3"
  }
 },
 "nbformat": 4,
 "nbformat_minor": 1
}
